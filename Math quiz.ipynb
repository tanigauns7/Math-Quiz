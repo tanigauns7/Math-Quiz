{
 "cells": [
  {
   "cell_type": "code",
   "execution_count": null,
   "id": "5a85a66e",
   "metadata": {},
   "outputs": [],
   "source": [
    "numb1 = int(input(\"Enter numb 1:\"))\n",
    "numb2 = int(input(\"Enter numb 2:\"))\n",
    "\n",
    "#ADDITION\n",
    "sum = numb1 + numb2\n",
    "usera = int(input(\"User answer a:\"))\n",
    "print(\"Sum:\", sum)\n",
    "\n",
    "#SUBTRACTION\n",
    "minus = numb1 - numb2\n",
    "userb = int(input(\"User answer b:\"))\n",
    "print(\"Minus:\", minus)\n",
    "\n",
    "#Multiplication\n",
    "multiply = numb1 * numb2\n",
    "userc = int(input(\"User answer c:\"))\n",
    "print(\"Multiply:\", multiply)\n",
    "\n",
    "#Division\n",
    "divide = numb1/numb2\n",
    "userd = int(input(\"User answer d:\"))\n",
    "print(\"Divide:\", divide)\n",
    "\n",
    "print(\"Thanks for playing\")"
   ]
  },
  {
   "cell_type": "code",
   "execution_count": null,
   "id": "cf5c4450",
   "metadata": {},
   "outputs": [],
   "source": []
  }
 ],
 "metadata": {
  "kernelspec": {
   "display_name": "Python 3 (ipykernel)",
   "language": "python",
   "name": "python3"
  },
  "language_info": {
   "codemirror_mode": {
    "name": "ipython",
    "version": 3
   },
   "file_extension": ".py",
   "mimetype": "text/x-python",
   "name": "python",
   "nbconvert_exporter": "python",
   "pygments_lexer": "ipython3",
   "version": "3.11.4"
  }
 },
 "nbformat": 4,
 "nbformat_minor": 5
}
